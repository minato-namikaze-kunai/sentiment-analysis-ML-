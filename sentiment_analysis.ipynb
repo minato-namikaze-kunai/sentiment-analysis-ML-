{
  "cells": [
    {
      "cell_type": "code",
      "source": [
        "# 1. Imports\n",
        "import pandas as pd\n",
        "import numpy as np\n",
        "import matplotlib.pyplot as plt\n",
        "import seaborn as sns\n",
        "\n",
        "from sklearn.model_selection import train_test_split\n",
        "from sklearn.feature_extraction.text import TfidfVectorizer\n",
        "from sklearn.linear_model import LogisticRegression\n",
        "from sklearn.metrics import accuracy_score, confusion_matrix\n",
        "\n",
        "import nltk\n",
        "from nltk.corpus import stopwords\n",
        "from nltk.tokenize import word_tokenize\n",
        "import string\n",
        "\n",
        "nltk.download('punkt')\n",
        "nltk.download('stopwords')\n"
      ],
      "metadata": {
        "id": "XgvG8YK2dq6x"
      },
      "execution_count": null,
      "outputs": []
    },
    {
      "cell_type": "code",
      "source": [
        "# 2. Load dataset\n",
        "data = pd.read_csv(\"dataset.csv\")\n",
        "data['sentiment'] = data['sentiment'].map({'positive':1, 'negative':0})\n",
        "data.head()\n"
      ],
      "metadata": {
        "id": "ZNoYC11ldu0w"
      },
      "execution_count": null,
      "outputs": []
    },
    {
      "cell_type": "code",
      "source": [
        "# 3. Preprocessing function\n",
        "stop_words = set(stopwords.words('english'))\n",
        "\n",
        "def preprocess(text):\n",
        "    tokens = word_tokenize(text.lower())\n",
        "    tokens = [t for t in tokens if t not in stop_words and t not in string.punctuation]\n",
        "    return ' '.join(tokens)\n",
        "\n",
        "data['cleaned'] = data['review'].apply(preprocess)\n",
        "data[['review', 'cleaned']].head()\n"
      ],
      "metadata": {
        "id": "f6e92VTydw-R"
      },
      "execution_count": null,
      "outputs": []
    },
    {
      "cell_type": "code",
      "source": [
        "# 4. TF-IDF vectorization\n",
        "tfidf = TfidfVectorizer()\n",
        "X = tfidf.fit_transform(data['cleaned'])\n",
        "y = data['sentiment']\n"
      ],
      "metadata": {
        "id": "ER9vrO8bdx8g"
      },
      "execution_count": null,
      "outputs": []
    },
    {
      "cell_type": "code",
      "source": [
        "# 5. Train/Test split\n",
        "X_train, X_test, y_train, y_test = train_test_split(X, y, test_size=0.2, random_state=42)\n"
      ],
      "metadata": {
        "id": "kGnzua2zdzuj"
      },
      "execution_count": null,
      "outputs": []
    },
    {
      "cell_type": "code",
      "source": [
        "# 6. Logistic Regression\n",
        "model = LogisticRegression()\n",
        "model.fit(X_train, y_train)\n",
        "y_pred = model.predict(X_test)\n"
      ],
      "metadata": {
        "id": "IxySDWiZd1kx"
      },
      "execution_count": null,
      "outputs": []
    },
    {
      "cell_type": "code",
      "source": [
        "# 7. Accuracy\n",
        "acc = accuracy_score(y_test, y_pred)\n",
        "print(f\"Accuracy: {acc:.2f}\")\n"
      ],
      "metadata": {
        "id": "0iadCY1hd22B"
      },
      "execution_count": null,
      "outputs": []
    },
    {
      "cell_type": "code",
      "source": [
        "# 8. Confusion Matrix\n",
        "cm = confusion_matrix(y_test, y_pred)\n",
        "sns.heatmap(cm, annot=True, fmt='d', cmap='Blues', xticklabels=['Negative','Positive'], yticklabels=['Negative','Positive'])\n",
        "plt.xlabel(\"Predicted\")\n",
        "plt.ylabel(\"Actual\")\n",
        "plt.title(\"Confusion Matrix\")\n",
        "plt.show()\n"
      ],
      "metadata": {
        "id": "Dx3_E5aLd4W5"
      },
      "execution_count": null,
      "outputs": []
    },
    {
      "cell_type": "code",
      "source": [
        "# 9. Visualize informative words\n",
        "feature_names = np.array(tfidf.get_feature_names_out())\n",
        "coefs = model.coef_[0]\n",
        "top_positive = feature_names[np.argsort(coefs)[-10:]]\n",
        "top_negative = feature_names[np.argsort(coefs)[:10]]\n",
        "\n",
        "print(\"Top Positive Words:\", top_positive[::-1])\n",
        "print(\"Top Negative Words:\", top_negative)"
      ],
      "metadata": {
        "id": "2oQO9ObEd5z4"
      },
      "execution_count": null,
      "outputs": []
    }
  ],
  "metadata": {
    "colab": {
      "provenance": []
    },
    "kernelspec": {
      "display_name": "Python 3",
      "name": "python3"
    },
    "language_info": {
      "name": "python"
    }
  },
  "nbformat": 4,
  "nbformat_minor": 0
}